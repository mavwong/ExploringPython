{
 "cells": [
  {
   "cell_type": "code",
   "execution_count": 1,
   "metadata": {},
   "outputs": [
    {
     "data": {
      "text/plain": [
       "'sample'"
      ]
     },
     "execution_count": 1,
     "metadata": {},
     "output_type": "execute_result"
    }
   ],
   "source": [
    "\"sample\""
   ]
  },
  {
   "cell_type": "code",
   "execution_count": null,
   "metadata": {},
   "outputs": [],
   "source": []
  },
  {
   "cell_type": "code",
   "execution_count": null,
   "metadata": {},
   "outputs": [],
   "source": []
  },
  {
   "cell_type": "code",
   "execution_count": null,
   "metadata": {},
   "outputs": [],
   "source": []
  },
  {
   "cell_type": "code",
   "execution_count": null,
   "metadata": {},
   "outputs": [],
   "source": []
  },
  {
   "cell_type": "markdown",
   "metadata": {},
   "source": [
    "### Chapter 1"
   ]
  },
  {
   "cell_type": "code",
   "execution_count": null,
   "metadata": {},
   "outputs": [],
   "source": [
    "# Inner Join\n",
    "# Table == DataFrame\n",
    "# Merging == Joining\n",
    "\n",
    "df = None\n",
    "df_a = None\n",
    "df.merge(df_a, on=\"columns\", suffixes=(\"_own\", \"_veh\"))"
   ]
  },
  {
   "cell_type": "code",
   "execution_count": null,
   "metadata": {},
   "outputs": [],
   "source": [
    "# Relationships (One-to-One, One to Many)\n",
    "# One to one - every row in the left table is related to one \\\n",
    "    # and only one row in the right table\n",
    "# One to many - every row in the left table is related to one or \\\n",
    "    # rows in the right table"
   ]
  },
  {
   "cell_type": "code",
   "execution_count": null,
   "metadata": {},
   "outputs": [],
   "source": [
    "# Merging multiple DataFrames - \\\n",
    "    # Data gathering from different sources\n",
    "df_a = None\n",
    "df_b = None\n",
    "df_c = None\n",
    "\n",
    "# Merging with multiple columns removing the duplicates \\\n",
    "    # in both the dataframes columns\n",
    "df_a.merge(df_b, on=[\"address\", \"zip\"])\n",
    "df_a.merge(df_b, on=[\"address\", \"zip\"]) \\\n",
    "    .merge(df_c, on=\"ward\", suffixes=[\"_bus\", \"_ward\"])"
   ]
  },
  {
   "cell_type": "markdown",
   "metadata": {},
   "source": [
    "### Chapter 2: Merging Table with Different Join Types\n",
    "\n",
    "- Inner Join\n",
    "- Left Join: All left table plus rows from the right where it matches the column C matches both."
   ]
  },
  {
   "cell_type": "code",
   "execution_count": null,
   "metadata": {},
   "outputs": [],
   "source": [
    "# Left Join\n",
    "df_a.merge(df_b, on=\"id\", how=\"left\")\n",
    "\n",
    "# Right Join\n",
    "df_a.merge(df_b, how=\"right\", left_on=\"id\", right_on=\"movie_id\")\n",
    "\n",
    "# Outer Join\n",
    "df_a.merge(df_b, on=\"movie_id\", how=\"outer\", suffixes=(\"_fam\", \"_com\"))\n",
    "\n",
    "\n",
    "# Getting the financials\n",
    "# Count the number of rows in the budget column that are missing\n",
    "# number_of_missing_fin = movies_financials['budget'].isnull().sum()\n",
    "\n",
    "# Merging if the 2 dataframes have no common columns\n",
    "movies_and_scifi_only = movies.merge(scifi_only, how='inner',\n",
    "                                     left_on='id', right_on='movie_id')\n",
    "\n",
    "# Merge iron_1_actors to iron_2_actors on id with outer join using suffixes\n",
    "iron_1_and_2 = iron_1_actors.merge(iron_2_actors,\n",
    "                                     on=\"id\",\n",
    "                                     how=\"outer\",\n",
    "                                     suffixes=('_1','_2'))\n",
    "\n",
    "# Create an index that returns true if name_1 or name_2 are null\n",
    "m = ((iron_1_and_2['name_1'].isnull()) | \n",
    "     (iron_1_and_2['name_2'].isnull()))"
   ]
  },
  {
   "cell_type": "code",
   "execution_count": null,
   "metadata": {},
   "outputs": [],
   "source": [
    "# Merging a table to itself - Self Join\n",
    "# When to merge at table by itself - Hierarchical, Sequantial and Graphs Relationships\n",
    "\n",
    "sequel = None\n",
    "sequel.merge(sequel, how=\"left\", left_on=\"sequel\", right_on=\"id\",\n",
    "             suffixes=(\"_org\",\"_seq\"))"
   ]
  },
  {
   "cell_type": "code",
   "execution_count": null,
   "metadata": {},
   "outputs": [],
   "source": [
    "# Merging on the indexes\n"
   ]
  }
 ],
 "metadata": {
  "kernelspec": {
   "display_name": "Python 3.9.1 64-bit",
   "language": "python",
   "name": "python3"
  },
  "language_info": {
   "codemirror_mode": {
    "name": "ipython",
    "version": 3
   },
   "file_extension": ".py",
   "mimetype": "text/x-python",
   "name": "python",
   "nbconvert_exporter": "python",
   "pygments_lexer": "ipython3",
   "version": "3.9.1"
  },
  "orig_nbformat": 4,
  "vscode": {
   "interpreter": {
    "hash": "aee8b7b246df8f9039afb4144a1f6fd8d2ca17a180786b69acc140d282b71a49"
   }
  }
 },
 "nbformat": 4,
 "nbformat_minor": 2
}
