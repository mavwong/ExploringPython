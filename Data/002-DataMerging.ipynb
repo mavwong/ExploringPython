{
 "cells": [
  {
   "cell_type": "code",
   "execution_count": 1,
   "metadata": {},
   "outputs": [
    {
     "data": {
      "text/plain": [
       "'sample'"
      ]
     },
     "execution_count": 1,
     "metadata": {},
     "output_type": "execute_result"
    }
   ],
   "source": [
    "\"sample\""
   ]
  },
  {
   "cell_type": "code",
   "execution_count": null,
   "metadata": {},
   "outputs": [],
   "source": []
  },
  {
   "cell_type": "code",
   "execution_count": null,
   "metadata": {},
   "outputs": [],
   "source": []
  },
  {
   "cell_type": "code",
   "execution_count": null,
   "metadata": {},
   "outputs": [],
   "source": []
  },
  {
   "cell_type": "code",
   "execution_count": null,
   "metadata": {},
   "outputs": [],
   "source": []
  },
  {
   "cell_type": "markdown",
   "metadata": {},
   "source": [
    "### Chapter 1"
   ]
  },
  {
   "cell_type": "code",
   "execution_count": null,
   "metadata": {},
   "outputs": [],
   "source": [
    "# Inner Join\n",
    "# Table == DataFrame\n",
    "# Merging == Joining\n",
    "\n",
    "df = None\n",
    "df_a = None\n",
    "df.merge(df_a, on=\"columns\", suffixes=(\"_own\", \"_veh\"))"
   ]
  },
  {
   "cell_type": "code",
   "execution_count": null,
   "metadata": {},
   "outputs": [],
   "source": [
    "# Relationships (One-to-One, One to Many)\n",
    "# One to one - every row in the left table is related to one \\\n",
    "    # and only one row in the right table\n",
    "# One to many - every row in the left table is related to one or \\\n",
    "    # rows in the right table"
   ]
  },
  {
   "cell_type": "code",
   "execution_count": null,
   "metadata": {},
   "outputs": [],
   "source": [
    "# Merging multiple DataFrames - \\\n",
    "    # Data gathering from different sources\n",
    "df_a = None\n",
    "df_b = None\n",
    "df_c = None\n",
    "\n",
    "# Merging with multiple columns removing the duplicates \\\n",
    "    # in both the dataframes columns\n",
    "df_a.merge(df_b, on=[\"address\", \"zip\"])\n",
    "df_a.merge(df_b, on=[\"address\", \"zip\"]) \\\n",
    "    .merge(df_c, on=\"ward\", suffixes=[\"_bus\", \"_ward\"])"
   ]
  },
  {
   "cell_type": "markdown",
   "metadata": {},
   "source": [
    "### Chapter 2: Merging Table with Different Join Types\n",
    "\n",
    "- Inner Join\n",
    "- Left Join: All left table plus rows from the right where it matches the column C matches both."
   ]
  },
  {
   "cell_type": "code",
   "execution_count": null,
   "metadata": {},
   "outputs": [],
   "source": [
    "# Left Join\n",
    "df_a.merge(df_b, on=\"id\", how=\"left\")\n",
    "\n",
    "# Right Join\n",
    "df_a.merge(df_b, how=\"right\", left_on=\"id\", right_on=\"movie_id\")\n",
    "\n",
    "# Outer Join\n",
    "df_a.merge(df_b, on=\"movie_id\", how=\"outer\", suffixes=(\"_fam\", \"_com\"))\n",
    "\n",
    "\n",
    "# Getting the financials\n",
    "# Count the number of rows in the budget column that are missing\n",
    "# number_of_missing_fin = movies_financials['budget'].isnull().sum()\n",
    "\n",
    "# Merging if the 2 dataframes have no common columns\n",
    "movies_and_scifi_only = movies.merge(scifi_only, how='inner',\n",
    "                                     left_on='id', right_on='movie_id')\n",
    "\n",
    "# Merge iron_1_actors to iron_2_actors on id with outer join using suffixes\n",
    "iron_1_and_2 = iron_1_actors.merge(iron_2_actors,\n",
    "                                     on=\"id\",\n",
    "                                     how=\"outer\",\n",
    "                                     suffixes=('_1','_2'))\n",
    "\n",
    "# Create an index that returns true if name_1 or name_2 are null\n",
    "m = ((iron_1_and_2['name_1'].isnull()) | \n",
    "     (iron_1_and_2['name_2'].isnull()))"
   ]
  },
  {
   "cell_type": "code",
   "execution_count": null,
   "metadata": {},
   "outputs": [],
   "source": [
    "# Merging a table to itself - Self Join\n",
    "# When to merge at table by itself - Hierarchical, Sequantial and Graphs Relationships\n",
    "\n",
    "sequel = None\n",
    "sequel.merge(sequel, how=\"left\", left_on=\"sequel\", right_on=\"id\",\n",
    "             suffixes=(\"_org\",\"_seq\"))"
   ]
  },
  {
   "cell_type": "code",
   "execution_count": null,
   "metadata": {},
   "outputs": [],
   "source": [
    "# Merging on the indexes\n",
    "import pandas as pd\n",
    "\n",
    "# Setting the index in the read_csv\n",
    "df = pd.read_csv(\"something.csv\", index_col=[\"id\"])\n",
    "\n",
    "# id being the index of the DataFrame\n",
    "df.merge(df_a, on=\"id\", how=\"left\")\n",
    "\n",
    "# Multi-Index Merge\n",
    "df.merge(df, on=[\"movie_id\", \"cast_id\"])\n",
    "\n",
    "# Index merge with left_on and right_on\n",
    "# given the 2 DataFrames have different index\n",
    "\n",
    "df.merge(df_a, left_on=\"id\", left_index=True, \n",
    "         right_on=\"movie_id\", right_index=True)"
   ]
  },
  {
   "cell_type": "markdown",
   "metadata": {},
   "source": [
    "## Chapter 3"
   ]
  },
  {
   "cell_type": "code",
   "execution_count": null,
   "metadata": {},
   "outputs": [],
   "source": [
    "# Filtering Joins / Semi Join\n",
    "# Filter observations from table based on whether or not they match\\\n",
    "    # an observation in another table"
   ]
  },
  {
   "cell_type": "code",
   "execution_count": null,
   "metadata": {},
   "outputs": [],
   "source": [
    "# Semi Join - Properties\n",
    "# Returns the intersection, similar to an inner join\n",
    "# Returns only columns from the left table and not the right table\n",
    "# No duplicates\n",
    "top_tracks = None\n",
    "non_mus_tcks = None\n",
    "top_invoices = None\n",
    "genres = None\n",
    "\n",
    "# Step 1 - Semi Join\n",
    "genres_tracks = genres.merge(top_tracks, on=\"gid\")\n",
    "\n",
    "# Step 2 - Semi Join\n",
    "top_genres = genres[\"gid\"].isin(genres_tracks[\"gid\"])\n",
    "\n",
    "# Final\n",
    "top_genres.head()\n",
    "\n",
    "\n",
    "### Another Example\n",
    "\n",
    "\n",
    "# Merge the non_mus_tck and top_invoices tables on tid\n",
    "tracks_invoices = non_mus_tcks.merge(top_invoices, on='tid')\n",
    "\n",
    "# Use .isin() to subset non_mus_tcsk to rows with tid in tracks_invoices\n",
    "top_tracks = non_mus_tcks[non_mus_tcks['tid'].isin(tracks_invoices['tid'])]\n",
    "\n",
    "# Group the top_tracks by gid and count the tid rows\n",
    "cnt_by_gid = top_tracks.groupby(['gid'], as_index=False).agg({'tid':'count'})\n",
    "\n",
    "# Merge the genres table to cnt_by_gid on gid and print\n",
    "print(cnt_by_gid.merge(genres, on='gid'))"
   ]
  },
  {
   "cell_type": "code",
   "execution_count": null,
   "metadata": {},
   "outputs": [],
   "source": [
    "# Anti Join - Properties\n",
    "# Returns the left table, excluding the intersection\n",
    "# Returns only columns from the left table and not the right table\n",
    "\n",
    "# Step 1 - Anti Join\n",
    "genres_tracks = genres.merge(top_tracks, on=\"gid\", \n",
    "                             how=\"left\", \n",
    "                             indicator=True)\n",
    "\n",
    "# Step 2\n",
    "gid_list = genres_tracks.loc[genres_tracks[\"_merge\"]==\"left_only\",\"gid\"]\n",
    "\n",
    "\n",
    "# Step 3\n",
    "non_top_genres = genres[genres[\"gid\"].isin(gid_list)]"
   ]
  },
  {
   "cell_type": "code",
   "execution_count": null,
   "metadata": {},
   "outputs": [],
   "source": [
    "# Concatenate two tables vertically\n",
    "pd.concat([sample_a, sample_b, sample_c], \n",
    "          axis=0, \n",
    "          ignore_index=True,\n",
    "          keys=[\"Jan\", \"Feb\", \"March\"])"
   ]
  },
  {
   "cell_type": "code",
   "execution_count": null,
   "metadata": {},
   "outputs": [],
   "source": [
    "# Concatenate tables with different columns\n",
    "pd.concat([sample_a, sample_b], \n",
    "          sort=True)\n",
    "\n",
    "pd.concat([sample_a, sample_b], \n",
    "          join=\"inner\")"
   ]
  },
  {
   "cell_type": "code",
   "execution_count": null,
   "metadata": {},
   "outputs": [],
   "source": [
    "# Using append\n",
    "sample_a.append([sample_b, sample_c],\n",
    "                ignore_index=True,\n",
    "                sort=True)"
   ]
  },
  {
   "cell_type": "code",
   "execution_count": null,
   "metadata": {},
   "outputs": [],
   "source": [
    "## Verifying integrity of the data\n",
    "sample_a.merge(validate=\"one_to_one\")\n",
    "\n",
    "# Check whether the new concatenated index contains duplicates\n",
    "pd.concat(verify_integrity=False)\n",
    "\n",
    "# Why\n",
    "# - Real world data is often not clean.\n",
    "\n"
   ]
  },
  {
   "cell_type": "code",
   "execution_count": null,
   "metadata": {},
   "outputs": [],
   "source": [
    "# Concatenate the classic tables vertically\n",
    "classic_18_19 = pd.concat([classic_18, classic_19], ignore_index=True)\n",
    "\n",
    "# Concatenate the pop tables vertically\n",
    "pop_18_19 = pd.concat([pop_18, pop_19], ignore_index=True)\n",
    "\n",
    "# Merge classic_18_19 with pop_18_19\n",
    "classic_pop = classic_18_19.merge(pop_18_19, on='tid')\n",
    "\n",
    "# Using .isin(), filter classic_18_19 rows where tid is in classic_pop\n",
    "popular_classic = classic_18_19[classic_18_19['tid'].isin(classic_pop['tid'])]\n",
    "\n",
    "# Print popular chart\n",
    "print(popular_classic)"
   ]
  },
  {
   "cell_type": "markdown",
   "metadata": {},
   "source": [
    "## Chapter 4 - Merge Ordered"
   ]
  },
  {
   "cell_type": "markdown",
   "metadata": {},
   "source": []
  }
 ],
 "metadata": {
  "kernelspec": {
   "display_name": "Python 3.9.1 64-bit",
   "language": "python",
   "name": "python3"
  },
  "language_info": {
   "codemirror_mode": {
    "name": "ipython",
    "version": 3
   },
   "file_extension": ".py",
   "mimetype": "text/x-python",
   "name": "python",
   "nbconvert_exporter": "python",
   "pygments_lexer": "ipython3",
   "version": "3.9.1"
  },
  "orig_nbformat": 4,
  "vscode": {
   "interpreter": {
    "hash": "aee8b7b246df8f9039afb4144a1f6fd8d2ca17a180786b69acc140d282b71a49"
   }
  }
 },
 "nbformat": 4,
 "nbformat_minor": 2
}
