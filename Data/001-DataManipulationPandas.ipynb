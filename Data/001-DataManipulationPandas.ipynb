{
 "cells": [
  {
   "cell_type": "markdown",
   "metadata": {},
   "source": [
    "## Path"
   ]
  },
  {
   "cell_type": "code",
   "execution_count": 2,
   "metadata": {},
   "outputs": [],
   "source": [
    "from pathlib import Path"
   ]
  },
  {
   "cell_type": "code",
   "execution_count": 3,
   "metadata": {},
   "outputs": [],
   "source": [
    "#dir(Path)"
   ]
  },
  {
   "cell_type": "code",
   "execution_count": 4,
   "metadata": {},
   "outputs": [],
   "source": [
    "# Getting the current working directory\n",
    "path_cwd = Path.cwd()\n",
    "path_root = path_cwd.parent"
   ]
  },
  {
   "cell_type": "code",
   "execution_count": 5,
   "metadata": {},
   "outputs": [
    {
     "data": {
      "text/plain": [
       "True"
      ]
     },
     "execution_count": 5,
     "metadata": {},
     "output_type": "execute_result"
    }
   ],
   "source": [
    "# Check if the file exists\n",
    "file_readme = path_root / \"README.md\"\n",
    "file_readme.exists()"
   ]
  },
  {
   "cell_type": "code",
   "execution_count": 6,
   "metadata": {},
   "outputs": [],
   "source": [
    "# Make dir\n",
    "sample_dir = Path(\"sample_dir\").resolve()\n",
    "sample_dir.mkdir(exist_ok=True)\n",
    "# print(sample_dir)"
   ]
  },
  {
   "cell_type": "code",
   "execution_count": 7,
   "metadata": {},
   "outputs": [],
   "source": [
    "# Get all the files\n",
    "cwd_files = list(path_cwd.iterdir())\n",
    "#print(cwd_files)"
   ]
  },
  {
   "cell_type": "code",
   "execution_count": 8,
   "metadata": {},
   "outputs": [],
   "source": [
    "# Get all the files using glob\n",
    "from glob import glob\n",
    "\n",
    "cwd_files_ipynb = list(path_cwd.glob(\"*.ipynb\"))\n",
    "#print(cwd_files_ipynb)"
   ]
  },
  {
   "cell_type": "code",
   "execution_count": 16,
   "metadata": {},
   "outputs": [
    {
     "data": {
      "text/plain": [
       "6"
      ]
     },
     "execution_count": 16,
     "metadata": {},
     "output_type": "execute_result"
    }
   ],
   "source": [
    "# Sample Quick read and write to a file\n",
    "test_dir = Path(\"test\").resolve()\n",
    "test_file = test_dir / \"test.txt\"\n",
    "\n",
    "# Make Directory\n",
    "test_dir.mkdir(exist_ok=True)\n",
    "\n",
    "# Make file and write\n",
    "test_file.write_text(\"Sample\")"
   ]
  },
  {
   "cell_type": "code",
   "execution_count": 19,
   "metadata": {},
   "outputs": [
    {
     "data": {
      "text/plain": [
       "os.stat_result(st_mode=33188, st_ino=45661913, st_dev=16777234, st_nlink=1, st_uid=501, st_gid=20, st_size=6, st_atime=1668310714, st_mtime=1668310713, st_ctime=1668310713)"
      ]
     },
     "execution_count": 19,
     "metadata": {},
     "output_type": "execute_result"
    }
   ],
   "source": [
    "# Read text\n",
    "test_file.read_text()\n",
    "# test_file.resolve()\n",
    "test_file.stat()"
   ]
  },
  {
   "cell_type": "code",
   "execution_count": null,
   "metadata": {},
   "outputs": [],
   "source": [
    "# Creating path by passing folder and file name\n",
    "path = Path(\"sample_dir\", \"sample_file.txt\")"
   ]
  },
  {
   "cell_type": "code",
   "execution_count": null,
   "metadata": {},
   "outputs": [],
   "source": [
    "# Check if its a file or directory\n",
    "path.is_dir()\n",
    "path.is_file()"
   ]
  },
  {
   "cell_type": "code",
   "execution_count": 24,
   "metadata": {},
   "outputs": [
    {
     "name": "stdout",
     "output_type": "stream",
     "text": [
      "/Users/mavwong/Desktop/Github/ExploringPython\n",
      "[PosixPath('/Users/mavwong/Desktop/Github/ExploringPython'), PosixPath('/Users/mavwong/Desktop/Github'), PosixPath('/Users/mavwong/Desktop'), PosixPath('/Users/mavwong'), PosixPath('/Users'), PosixPath('/')]\n"
     ]
    }
   ],
   "source": [
    "print(path_cwd.parent)\n",
    "print(list(path_cwd.parents))"
   ]
  },
  {
   "cell_type": "markdown",
   "metadata": {},
   "source": [
    "## Possible Standards"
   ]
  },
  {
   "cell_type": "code",
   "execution_count": 15,
   "metadata": {},
   "outputs": [],
   "source": [
    "from pathlib import Path\n",
    "\n",
    "# Absolute paths\n",
    "path_cwd = Path.cwd()\n",
    "path_root = path_cwd.parent\n",
    "\n",
    "# Relative Path\n",
    "path_sample = Path(\"sample\").resolve()\n",
    "path_sample_2 = Path(\"sample_2\").resolve()\n",
    "\n",
    "# Files\n",
    "file = path_cwd / \"sample.txt\"\n",
    "file_2 = Path(\"sample_2.txt\").resolve()"
   ]
  },
  {
   "cell_type": "code",
   "execution_count": 17,
   "metadata": {},
   "outputs": [],
   "source": [
    "# Validate and create directory based on a path\n",
    "def validate_dir(path_dir:Path) -> None:\n",
    "    if isinstance(path_dir, str):\n",
    "        path_dir = Path(path_dir)\n",
    "    \n",
    "    if not path_dir.exists:\n",
    "        path_dir.mkdir()"
   ]
  },
  {
   "cell_type": "code",
   "execution_count": 16,
   "metadata": {},
   "outputs": [
    {
     "name": "stdout",
     "output_type": "stream",
     "text": [
      "/Users/mavwong/Desktop/Github/ExploringPython/Foundations\n",
      "/Users/mavwong/Desktop/Github/ExploringPython\n",
      "/Users/mavwong/Desktop/Github/ExploringPython/Foundations/sample\n",
      "/Users/mavwong/Desktop/Github/ExploringPython/Foundations/sample.txt\n",
      "/Users/mavwong/Desktop/Github/ExploringPython/Foundations/sample_2.txt\n"
     ]
    }
   ],
   "source": [
    "print(path_cwd)\n",
    "print(path_root)\n",
    "\n",
    "print(path_sample)\n",
    "print(file)\n",
    "print(file_2)"
   ]
  }
 ],
 "metadata": {
  "kernelspec": {
   "display_name": "Python 3.9.7 64-bit",
   "language": "python",
   "name": "python3"
  },
  "language_info": {
   "codemirror_mode": {
    "name": "ipython",
    "version": 3
   },
   "file_extension": ".py",
   "mimetype": "text/x-python",
   "name": "python",
   "nbconvert_exporter": "python",
   "pygments_lexer": "ipython3",
   "version": "3.9.7"
  },
  "orig_nbformat": 4,
  "vscode": {
   "interpreter": {
    "hash": "9dbeb5ce428497f4d719213df2f5116e0feff6e4e81b16e467766bfc557b8daa"
   }
  }
 },
 "nbformat": 4,
 "nbformat_minor": 2
}
