{
 "cells": [
  {
   "cell_type": "markdown",
   "metadata": {},
   "source": [
    "## Data Manipulation with Pandas - Outline\n",
    "#### Chapter 1\n",
    "- Subsetting and Sorting\n",
    "- Adding New Columns\n",
    "#### Chapter 2\n",
    "- Aggregating and Grouping\n",
    "- Summary Statistics\n",
    "#### Chapter 3\n",
    "- Indexing\n",
    "- Slicing\n",
    "#### Chapter 4\n",
    "- Visualizations\n",
    "- Reading and Writing CSVs"
   ]
  },
  {
   "cell_type": "code",
   "execution_count": null,
   "metadata": {},
   "outputs": [],
   "source": [
    "## Missing values.\n",
    "\n",
    "# df.isna() # Detecting missing values\n",
    "# df.isna().any # Detecting any missing values in the columns\n",
    "# df.isna().sum() # Counting missing values in a column\n",
    "\n",
    "## Visualizing Missing values.\n",
    "# import matplotlib.pyplot as plt\n",
    "# df.isna().sum().plot(kind=\"bar\")\n",
    "# plt.show()\n",
    "\n",
    "# cols_missing = []\n",
    "# df[cols_missing].hist()\n",
    "# plt.show()"
   ]
  },
  {
   "cell_type": "code",
   "execution_count": null,
   "metadata": {},
   "outputs": [],
   "source": [
    "# Handling Missing Values\n",
    "# Removing missing values\n",
    "\n",
    "# df.dropna()\n",
    "# df.fillna(0)  # Fill NA values with 0\n"
   ]
  },
  {
   "cell_type": "markdown",
   "metadata": {},
   "source": [
    "Creating a Dataframes\n",
    "- Dictionaries\n",
    "- List of Dictionaries\n",
    "- Dictionary of Lists\n",
    "\n",
    "Reading and Writing CSVs\n",
    "- CSV - comma separated values\n",
    "- Designed for DataFrame-like data"
   ]
  },
  {
   "cell_type": "code",
   "execution_count": null,
   "metadata": {},
   "outputs": [],
   "source": []
  },
  {
   "cell_type": "markdown",
   "metadata": {},
   "source": []
  },
  {
   "cell_type": "code",
   "execution_count": null,
   "metadata": {},
   "outputs": [],
   "source": [
    "# Creating a Dataframe\n",
    "\n",
    "# Sample Lists of Dictionaries\n",
    "# list_of_dicts = [\n",
    "#     {\"name\":\"Ginger\", \"breed\":\"Poodle\", \"age\":100},\n",
    "#     {\"name\":\"Ginger\", \"breed\":\"Poodle\", \"age\":100}\n",
    "# ]\n",
    "\n",
    "# Sample Dictionary of Lists\n",
    "# dict_of_lists = {\n",
    "#     \"name\" : [\"Ginger\", \"Scout\"],\n",
    "#     \"breed\" : [\"Poodle\", \"ToyPoodle\"],\n",
    "#     \"age\" : [100, 100]\n",
    "# }"
   ]
  },
  {
   "cell_type": "code",
   "execution_count": null,
   "metadata": {},
   "outputs": [],
   "source": [
    "# CSV\n",
    "# import pandas as pd\n",
    "# pd.read_csv(\"\")\n",
    "# df.to_csv(\"\")"
   ]
  },
  {
   "cell_type": "markdown",
   "metadata": {},
   "source": [
    "## Chapter 2"
   ]
  },
  {
   "cell_type": "code",
   "execution_count": null,
   "metadata": {},
   "outputs": [],
   "source": [
    "### Chapter 1 - Introduction\n",
    "# DataFrame or Tabular Data\n",
    "\n",
    "# df.head()\n",
    "# df.info()\n",
    "# df.shape\n",
    "# df.describe()\n",
    "# df.values\n",
    "# df.columns\n",
    "# df.index"
   ]
  },
  {
   "cell_type": "code",
   "execution_count": null,
   "metadata": {},
   "outputs": [],
   "source": [
    "### Chapter 1 - Introduction \n",
    "# Sorting and Subsetting \n",
    "\n",
    "# df.sort_values(\"column_name\", ascending=True)\n",
    "# df.sort_values([list_of_cols])\n",
    "# df[\"column_name\"]\n",
    "# df[[list_of_cols]]\n",
    "# df[\"column\"] > 50\n",
    "# df[\"column\"] > \"Labrador\"\n",
    "# df[df[\"column\"] > 50]\n",
    "\n",
    "# Subsetting based on multiple conditions\n",
    "# is_lab = df[\"breed\"]==\"Labrador\"\n",
    "# is_brown = df[\"color\"]==\"brown\"\n",
    "# df[is_lab & is_brown]     # Condition\n",
    "\n",
    "# Subsetting using isni()\n",
    "# is_black_or_brown = df[\"color\"].isin([\"black\",\"brown\"])\n",
    "# df[\"is_black_or_brown\"]\n",
    "\n",
    "# Subsetting Another Example\n",
    "# south_mid_atlantic = homelessness[(homelessness[\"region\"] == \"South Atlantic\")\\\n",
    "    # | (homelessness[\"region\"] == \"Mid-Atlantic\")]"
   ]
  },
  {
   "cell_type": "markdown",
   "metadata": {},
   "source": [
    "## Chapter 2 - Introduction"
   ]
  },
  {
   "cell_type": "code",
   "execution_count": null,
   "metadata": {},
   "outputs": [],
   "source": [
    "### Chapter 2 - New Columns\n",
    "# df[\"meters\"] = df[\"cm\"] * 1000"
   ]
  },
  {
   "cell_type": "code",
   "execution_count": null,
   "metadata": {},
   "outputs": [],
   "source": [
    "### Chapter 2 - Summary Statistics\n",
    "\n",
    "# Mean, Median, Mode, Min, Max, Var, Std, Sum\n",
    "# df[\"columns\"].mean()\n",
    "# df[\"date\"].min()\n",
    "\n",
    "# df[\"col\"].agg(pct30)\n",
    "# df[[list_of_cols]].agg(pct30)\n",
    "# df[\"cols\"].agg([list_of_fn])\n",
    "\n",
    "# cumsum, cummax, cummin, cumprod\n",
    "# df[\"cols\"].cumsum()\n",
    "\n",
    "\n",
    "# Function for agg\n",
    "# def pct30(column):\n",
    "#     return column.quantile(0.30)"
   ]
  },
  {
   "cell_type": "code",
   "execution_count": null,
   "metadata": {},
   "outputs": [],
   "source": [
    "### Chapter 2 - Counting\n",
    "# df = None\n",
    "# df.drop_duplicates(subset=\"name\") # Dropping rows with duplicate data\n",
    "# df.drop_duplicates(subset=[\"name\",\"breed\"]) # Dropping duplicates pairs\n",
    "# df[\"cols\"].value_counts()\n",
    "# df[\"cols\"].value_counts(sort=True)\n",
    "# df[\"cols\"].value_counts(normalize=True)   # Percentage"
   ]
  },
  {
   "cell_type": "code",
   "execution_count": null,
   "metadata": {},
   "outputs": [],
   "source": [
    "### Chapter 2 - Grouped Summary Statistics\n",
    "\n",
    "# Groupby Color Cols, then get the weight_kg cols, start mean operations\n",
    "# df.groupby(\"color\")[\"weight_kg\"].mean()\n",
    "# df.groupby(\"color\")[\"weight_kg\"].agg([min, max, sum])\n",
    "# df.groupby([\"color\", \"breed\"])[[\"weight_kg\", \"height_cm\"]].mean()"
   ]
  },
  {
   "cell_type": "code",
   "execution_count": null,
   "metadata": {},
   "outputs": [],
   "source": [
    "### Chapter 2 - Pivot Tables\n",
    "\n",
    "# import numpy as np\n",
    "\n",
    "# Same as above example\n",
    "# df.pivot_table(values=\"weight_kg\", index=\"color\")\n",
    "# df.pivot_table(values=\"weight_kg\", index=\"color\", aggfunc=[np.mean,np.median])\n",
    "\n",
    "# df.pivot_table(values=\"weight_kg\", index=\"color\", columns=\"breed\", \n",
    "#               fill_value=0, margins=True)"
   ]
  },
  {
   "cell_type": "markdown",
   "metadata": {},
   "source": [
    "## Chapter 3"
   ]
  },
  {
   "cell_type": "code",
   "execution_count": null,
   "metadata": {},
   "outputs": [],
   "source": [
    "# Setting the col as the index\n",
    "# df.set_index(\"name\")\n",
    "# df.reset_index(drop=True)\n",
    "\n",
    "# Subsetting\n",
    "# df[df[\"name\"].isin([\"Bella\",\"Stella\"])]\n",
    "# vs\n",
    "# df.loc[[\"Bella\", \"Stella\"]]\n",
    "\n",
    "# Multi-level indexes aka hierarchical indexes\n",
    "# df.set_index([\"breed\", \"color\"])\n",
    "\n",
    "# Subsetting the outer level\n",
    "# df.loc([\"Labrador\", \"Chihuahua\"])\n",
    "\n",
    "# Subsetting the inner level\n",
    "# df.loc[[(\"Labrador\", \"Brown\"), (\"Chihuahua\", \"Tan\")]]"
   ]
  },
  {
   "cell_type": "code",
   "execution_count": null,
   "metadata": {},
   "outputs": [],
   "source": [
    "# Controlling Sorting\n",
    "# df.sort_index(level=[\"color\", \"breed\"], ascending=[True, False])\n",
    "\n",
    "# Subsetting and slicing with loc and iloc\n",
    "# Slicing\n",
    "# df[2:5]\n",
    "# df [:3]     # Get the list until the passed index\n",
    "# df [:]      # Get the whole list\n",
    "\n",
    "# # Slicing through the index names (outer level)\n",
    "# df.loc[\"Chow Chow\": \"Poodle\"]\n",
    "\n",
    "# # Slicing through the index names (inner level)\n",
    "# df.loc[(\"Labrador\", \"Brown\"):(\"Something\": \"Something\")]\n",
    "\n",
    "# # Slicing through the index names (inner level) - with cols\n",
    "# df.loc[(\"Labrador\", \"Brown\"):(\"Something\": \"Something\"),\n",
    "#        \"name\":\"height\"]"
   ]
  },
  {
   "cell_type": "code",
   "execution_count": null,
   "metadata": {},
   "outputs": [],
   "source": [
    "# Pivot Table\n",
    "df = None\n",
    "sample = df.pivot_table(\"height_cm\",     # Main datas within the dataframe - (within the center)\n",
    "                        index=\"breed\", \n",
    "                        columns=\"color\")\n",
    "\n",
    "sample.loc[\"Chow chow\", \"Poodle\"]\n",
    "sample.loc[(\"Sample\",\"Sample\"):(\"Sample\",\"Sample\")]\n",
    "\n",
    "sample.mean(axis=\"index\")   # Across the Breeds\n",
    "sample.mean(axis=\"columns\") # Across the Colors"
   ]
  },
  {
   "cell_type": "markdown",
   "metadata": {},
   "source": [
    "## Chapter 4"
   ]
  },
  {
   "cell_type": "code",
   "execution_count": null,
   "metadata": {},
   "outputs": [],
   "source": [
    "import matplotlib.pyplot as plt\n",
    "\n",
    "df = None\n",
    "df[\"height_cm\"].hist()\n",
    "plt.show()"
   ]
  },
  {
   "cell_type": "code",
   "execution_count": null,
   "metadata": {},
   "outputs": [],
   "source": [
    "# Get the average weight by breed\n",
    "avg_weight_by_breed = df.groupby(\"breed\")[\"weight_kg\"].mean()"
   ]
  }
 ],
 "metadata": {
  "kernelspec": {
   "display_name": "Python 3.9.1 64-bit",
   "language": "python",
   "name": "python3"
  },
  "language_info": {
   "codemirror_mode": {
    "name": "ipython",
    "version": 3
   },
   "file_extension": ".py",
   "mimetype": "text/x-python",
   "name": "python",
   "nbconvert_exporter": "python",
   "pygments_lexer": "ipython3",
   "version": "3.9.1"
  },
  "orig_nbformat": 4,
  "vscode": {
   "interpreter": {
    "hash": "aee8b7b246df8f9039afb4144a1f6fd8d2ca17a180786b69acc140d282b71a49"
   }
  }
 },
 "nbformat": 4,
 "nbformat_minor": 2
}
