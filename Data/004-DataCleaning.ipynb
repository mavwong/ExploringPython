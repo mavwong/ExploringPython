{
 "cells": [
  {
   "cell_type": "code",
   "execution_count": null,
   "metadata": {},
   "outputs": [],
   "source": [
    "# DATA SCIENCE WORKFLOW\n",
    "\"\"\" \n",
    "- Access Data\n",
    "- Explore and Process Data\n",
    "- Extract Insights\n",
    "- Report Insights\n",
    "\"\"\"\n",
    "\n",
    "\"\"\"\n",
    "int\n",
    "str\n",
    "float\n",
    "bool\n",
    "datetime\n",
    "category\n",
    "\"\"\""
   ]
  },
  {
   "cell_type": "code",
   "execution_count": null,
   "metadata": {},
   "outputs": [],
   "source": [
    "df = None\n",
    "df.dtypes"
   ]
  },
  {
   "cell_type": "code",
   "execution_count": null,
   "metadata": {},
   "outputs": [],
   "source": [
    "df.info()"
   ]
  },
  {
   "cell_type": "code",
   "execution_count": null,
   "metadata": {},
   "outputs": [],
   "source": [
    "# Change the dtype of the column\n",
    "df[\"Revenue\"] = df[\"Revenue\"].str.strip(\"$\")\n",
    "df[\"Revenue\"] = df[\"Revenue\"].astype(\"int\")\n",
    "\n",
    "# Change the dtype of the column\n",
    "df[\"Status\"] = df[\"Status\"].astype(\"category\")"
   ]
  },
  {
   "cell_type": "code",
   "execution_count": null,
   "metadata": {},
   "outputs": [],
   "source": [
    "# Verify that the Revenue is now an integer\n",
    "assert df[\"Revenue\"].dtype == \"int\""
   ]
  },
  {
   "cell_type": "code",
   "execution_count": null,
   "metadata": {},
   "outputs": [],
   "source": [
    "# How to deal with out of range data\n",
    "# - Dropping data\n",
    "# - Setting custom minimum and maximum"
   ]
  },
  {
   "cell_type": "code",
   "execution_count": null,
   "metadata": {},
   "outputs": [],
   "source": [
    "# Convert to Data\n",
    "df[\"subscription_date\"] = pd.to_datetime(df[\"subscription_date\"]).dt.date"
   ]
  },
  {
   "cell_type": "code",
   "execution_count": null,
   "metadata": {},
   "outputs": [],
   "source": [
    "\"\"\" \n",
    "Techniques to Clean your Data.\n",
    "- Changing the datatype (to date, to int, to categories)\n",
    "- Checking (by Raising or Assertion) the proper datatype\n",
    "- Dropping data not within range. Setting a minimum and maximum value\n",
    "- Data range constraints\n",
    "\n",
    "\"\"\""
   ]
  },
  {
   "attachments": {},
   "cell_type": "markdown",
   "metadata": {},
   "source": [
    "### Chapter 2 - Text and Categorical Problems\n",
    "\n",
    "- Dropping Data\n",
    "- Remapping Categories\n",
    "- Inferring Categories\n",
    "\n",
    "#### Probable Solutions\n",
    "- Anti Joins\n",
    "- Inner Joins"
   ]
  },
  {
   "cell_type": "code",
   "execution_count": null,
   "metadata": {},
   "outputs": [],
   "source": [
    "# Dropping Inconsistent Categories\n",
    "# Example\n",
    "# - Gender\n",
    "# - Blood Type"
   ]
  },
  {
   "cell_type": "code",
   "execution_count": null,
   "metadata": {},
   "outputs": [],
   "source": [
    "# Categorical problem\n",
    "import pandas as pd\n",
    "df_study = pd.read_csv(\"study.csv\")\n",
    "categories = None       # Categories data - Blood type\n",
    "\n",
    "inconsistent_categories = set(df_study[\"blood_type\"]).difference(categories[\"blood_type\"])\n",
    "print(inconsistent_categories)"
   ]
  },
  {
   "cell_type": "code",
   "execution_count": null,
   "metadata": {},
   "outputs": [],
   "source": [
    "# Getting and printing rows with inconsistent categories\n",
    "inconsistent_rows = df_study[\"blood_type\"].isin(inconsistent_categories)"
   ]
  },
  {
   "cell_type": "code",
   "execution_count": null,
   "metadata": {},
   "outputs": [],
   "source": [
    "# Categorical Variables - Value Consistency\n",
    "# Check the data based on their columns\n",
    "df.values_counts()\n",
    "\n",
    "# Fixing the string\n",
    "df[\"some_column\"] = df[\"some_column\"].str.lower()\n",
    "df[\"some_column\"] = df[\"some_column\"].str.upper()\n",
    "\n",
    "# Fixing the whitestring\n",
    "df[\"some_column\"] = df[\"some_column\"].str.strip()"
   ]
  },
  {
   "cell_type": "code",
   "execution_count": 1,
   "metadata": {},
   "outputs": [],
   "source": [
    "# Categorizing data based on their income\n",
    "group_names = [\"0-200k\", \"200k-500k\", \"500k\"]\n",
    "\n",
    "demographics[\"income_group\"] = pd.qcut(demographics[\"household_income\" "
   ]
  },
  {
   "cell_type": "code",
   "execution_count": null,
   "metadata": {},
   "outputs": [],
   "source": [
    "# Categorizing data based on their income\n",
    "ranges\n",
    "group_names = [\"0-200k\", \"200k-500k\", \"500k\"]\n",
    "\n",
    "demographics[\"income_group\"] = pd.qcut(demographics[\"household_income\" "
   ]
  },
  {
   "cell_type": "code",
   "execution_count": null,
   "metadata": {},
   "outputs": [],
   "source": [
    "# Common text data problems\n",
    "# Data Inconsistency\n",
    "# Fixed Length Violations\n",
    "# Typos"
   ]
  },
  {
   "cell_type": "code",
   "execution_count": null,
   "metadata": {},
   "outputs": [],
   "source": [
    "# sample\n",
    "df[\"sample\"].str.replace(\"+\",\"00\")\n",
    "\n",
    "# replace numbers with lower than 10 digits\n",
    "digits = phone[\"Phone number\"].str.len()\n",
    "phone.loc[digits < 10, \"Phone number\"] = np.nan\n",
    "\n",
    "sanity_check = phone[\"Phone number\"].str.len()\n",
    "assert sanity_check.min() >= 10\n",
    "\n",
    "assert phone[\"Phone number\"].str.contains(\"+|-\").any() == False"
   ]
  },
  {
   "cell_type": "code",
   "execution_count": null,
   "metadata": {},
   "outputs": [],
   "source": [
    "# Removing or replacing regular expressions\n",
    "phone[\"phone number\"] = phone[\"phone number\"].str.replace(r\"\\D+\", \"\")"
   ]
  },
  {
   "attachments": {},
   "cell_type": "markdown",
   "metadata": {},
   "source": [
    "### Chapter 3 - Advance Data Problems"
   ]
  },
  {
   "cell_type": "code",
   "execution_count": null,
   "metadata": {},
   "outputs": [],
   "source": [
    "# Uniformity, Cross Field Validation, and dealing with missing data.\n",
    "\n",
    "# Units uniformity (C and F, Kg and g)"
   ]
  },
  {
   "attachments": {},
   "cell_type": "markdown",
   "metadata": {},
   "source": [
    "### Chapter 4 - Record Linkage"
   ]
  },
  {
   "cell_type": "code",
   "execution_count": null,
   "metadata": {},
   "outputs": [],
   "source": []
  }
 ],
 "metadata": {
  "kernelspec": {
   "display_name": "Python 3.9.1 64-bit",
   "language": "python",
   "name": "python3"
  },
  "language_info": {
   "codemirror_mode": {
    "name": "ipython",
    "version": 3
   },
   "file_extension": ".py",
   "mimetype": "text/x-python",
   "name": "python",
   "nbconvert_exporter": "python",
   "pygments_lexer": "ipython3",
   "version": "3.9.1 (v3.9.1:1e5d33e9b9, Dec  7 2020, 12:10:52) \n[Clang 6.0 (clang-600.0.57)]"
  },
  "orig_nbformat": 4,
  "vscode": {
   "interpreter": {
    "hash": "aee8b7b246df8f9039afb4144a1f6fd8d2ca17a180786b69acc140d282b71a49"
   }
  }
 },
 "nbformat": 4,
 "nbformat_minor": 2
}
