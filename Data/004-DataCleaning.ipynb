{
 "cells": [
  {
   "cell_type": "code",
   "execution_count": null,
   "metadata": {},
   "outputs": [],
   "source": [
    "# DATA SCIENCE WORKFLOW\n",
    "\"\"\" \n",
    "- Access Data\n",
    "- Explore and Process Data\n",
    "- Extract Insights\n",
    "- Report Insights\n",
    "\"\"\"\n",
    "\n",
    "\"\"\"\n",
    "int\n",
    "str\n",
    "float\n",
    "bool\n",
    "datetime\n",
    "category\n",
    "\"\"\""
   ]
  },
  {
   "cell_type": "code",
   "execution_count": null,
   "metadata": {},
   "outputs": [],
   "source": [
    "df = None\n",
    "df.dtypes"
   ]
  },
  {
   "cell_type": "code",
   "execution_count": null,
   "metadata": {},
   "outputs": [],
   "source": [
    "df.info()"
   ]
  },
  {
   "cell_type": "code",
   "execution_count": null,
   "metadata": {},
   "outputs": [],
   "source": [
    "# Change the dtype of the column\n",
    "df[\"Revenue\"] = df[\"Revenue\"].str.strip(\"$\")\n",
    "df[\"Revenue\"] = df[\"Revenue\"].astype(\"int\")\n",
    "\n",
    "# Change the dtype of the column\n",
    "df[\"Status\"] = df[\"Status\"].astype(\"category\")"
   ]
  },
  {
   "cell_type": "code",
   "execution_count": null,
   "metadata": {},
   "outputs": [],
   "source": [
    "# Verify that the Revenue is now an integer\n",
    "assert df[\"Revenue\"].dtype == \"int\""
   ]
  },
  {
   "cell_type": "code",
   "execution_count": null,
   "metadata": {},
   "outputs": [],
   "source": [
    "# How to deal with out of range data\n",
    "# - Dropping data\n",
    "# - Setting custom minimum and maximum"
   ]
  },
  {
   "cell_type": "code",
   "execution_count": null,
   "metadata": {},
   "outputs": [],
   "source": [
    "# Convert to Data\n",
    "df[\"subscription_date\"] = pd.to_datetime(df[\"subscription_date\"]).dt.date"
   ]
  },
  {
   "cell_type": "code",
   "execution_count": null,
   "metadata": {},
   "outputs": [],
   "source": [
    "\"\"\" \n",
    "Techniques to Clean your Data.\n",
    "- Changing the datatype (to date, to int, to categories)\n",
    "- Checking (by Raising or Assertion) the proper datatype\n",
    "- Dropping data not within range. Setting a minimum and maximum value\n",
    "- Data range constraints\n",
    "\n",
    "\"\"\""
   ]
  }
 ],
 "metadata": {
  "kernelspec": {
   "display_name": "Python 3.9.1 64-bit",
   "language": "python",
   "name": "python3"
  },
  "language_info": {
   "codemirror_mode": {
    "name": "ipython",
    "version": 3
   },
   "file_extension": ".py",
   "mimetype": "text/x-python",
   "name": "python",
   "nbconvert_exporter": "python",
   "pygments_lexer": "ipython3",
   "version": "3.9.1"
  },
  "orig_nbformat": 4,
  "vscode": {
   "interpreter": {
    "hash": "aee8b7b246df8f9039afb4144a1f6fd8d2ca17a180786b69acc140d282b71a49"
   }
  }
 },
 "nbformat": 4,
 "nbformat_minor": 2
}
