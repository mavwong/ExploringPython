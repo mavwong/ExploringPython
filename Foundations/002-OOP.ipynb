{
 "cells": [
  {
   "cell_type": "code",
   "execution_count": 1,
   "metadata": {},
   "outputs": [
    {
     "name": "stdout",
     "output_type": "stream",
     "text": [
      "Corey\n",
      "Corey.Schafer@email.com\n",
      "Corey Schafer\n",
      "Delete Name!\n"
     ]
    }
   ],
   "source": [
    "class Employee:\n",
    "    def __init__(self, first, last):\n",
    "        self.first = first\n",
    "        self.last = last\n",
    "\n",
    "    @property\n",
    "    def email(self):\n",
    "        return '{}.{}@email.com'.format(self.first, self.last)\n",
    "\n",
    "    @property\n",
    "    def fullname(self):\n",
    "        return '{} {}'.format(self.first, self.last)\n",
    "    \n",
    "    @fullname.setter\n",
    "    def fullname(self, name):\n",
    "        first, last = name.split(' ')\n",
    "        self.first = first\n",
    "        self.last = last\n",
    "    \n",
    "    @fullname.deleter\n",
    "    def fullname(self):\n",
    "        print('Delete Name!')\n",
    "        self.first = None\n",
    "        self.last = None"
   ]
  },
  {
   "cell_type": "code",
   "execution_count": 23,
   "metadata": {},
   "outputs": [],
   "source": [
    "# DONT DELETE\n",
    "from dataclasses import dataclass\n",
    "\n",
    "\n",
    "class Sample:\n",
    "    def __init__(self, input, output):\n",
    "        self._input = input\n",
    "        self._output = output\n",
    "        \n",
    "    @property\n",
    "    def input(self):\n",
    "        return self._input\n",
    "    \n",
    "    @property\n",
    "    def output(self):\n",
    "        return self._output\n",
    "    \n",
    "    @input.setter\n",
    "    def input(self, string):\n",
    "        self._input = string\n",
    "        \n",
    "    @output.setter\n",
    "    def output(self, string):\n",
    "        self._output = string\n",
    "        \n",
    "    @input.deleter\n",
    "    def input(self):\n",
    "        self._input = None\n",
    "        \n",
    "    @output.deleter\n",
    "    def output(self):\n",
    "        self._output = None\n",
    "        \n",
    "    def reset_data(self):\n",
    "        del self.output\n",
    "        del self.input"
   ]
  },
  {
   "cell_type": "code",
   "execution_count": 24,
   "metadata": {},
   "outputs": [],
   "source": [
    "ex = Sample(\n",
    "    input = \"Maverick\",\n",
    "    output= \"Wong\"\n",
    ")"
   ]
  },
  {
   "cell_type": "code",
   "execution_count": 28,
   "metadata": {},
   "outputs": [
    {
     "name": "stdout",
     "output_type": "stream",
     "text": [
      "None\n"
     ]
    }
   ],
   "source": [
    "ex.reset_data()\n",
    "print(ex.output)"
   ]
  },
  {
   "cell_type": "code",
   "execution_count": null,
   "metadata": {},
   "outputs": [],
   "source": [
    "# DONT DELETE\n",
    "# Initial Object | Class\n",
    "emp_1 = Employee('John', 'Smith')\n",
    "\n",
    "# Setter \n",
    "emp_1.fullname = \"Corey Schafer\"\n",
    "\n",
    "# Getter\n",
    "print(emp_1.first)\n",
    "print(emp_1.email)\n",
    "print(emp_1.fullname)\n",
    "\n",
    "# Deleter\n",
    "del emp_1.fullname"
   ]
  },
  {
   "cell_type": "code",
   "execution_count": 4,
   "metadata": {},
   "outputs": [
    {
     "ename": "RuntimeError",
     "evalue": "PyQt6.QtWidgets cannot import type '�bd��' from PyQt6.QtCore",
     "output_type": "error",
     "traceback": [
      "\u001b[1;31m---------------------------------------------------------------------------\u001b[0m",
      "\u001b[1;31mRuntimeError\u001b[0m                              Traceback (most recent call last)",
      "\u001b[1;32mc:\\Users\\MaverickWong\\Willow\\WIL_Automation Team - General\\99_Project Files\\_UpdateTester\\00007_Test_TopGun\\A01_Data Compliance\\A01_00_Apps\\A0999_VisualMapping_Extension\\sample.ipynb Cell 6\u001b[0m in \u001b[0;36m<cell line: 3>\u001b[1;34m()\u001b[0m\n\u001b[0;32m      <a href='vscode-notebook-cell:/c%3A/Users/MaverickWong/Willow/WIL_Automation%20Team%20-%20General/99_Project%20Files/_UpdateTester/00007_Test_TopGun/A01_Data%20Compliance/A01_00_Apps/A0999_VisualMapping_Extension/sample.ipynb#X10sZmlsZQ%3D%3D?line=0'>1</a>\u001b[0m \u001b[39mimport\u001b[39;00m \u001b[39msys\u001b[39;00m\n\u001b[0;32m      <a href='vscode-notebook-cell:/c%3A/Users/MaverickWong/Willow/WIL_Automation%20Team%20-%20General/99_Project%20Files/_UpdateTester/00007_Test_TopGun/A01_Data%20Compliance/A01_00_Apps/A0999_VisualMapping_Extension/sample.ipynb#X10sZmlsZQ%3D%3D?line=1'>2</a>\u001b[0m \u001b[39mfrom\u001b[39;00m \u001b[39mPyQt6\u001b[39;00m\u001b[39m.\u001b[39;00m\u001b[39mQtCore\u001b[39;00m \u001b[39mimport\u001b[39;00m Qt\n\u001b[1;32m----> <a href='vscode-notebook-cell:/c%3A/Users/MaverickWong/Willow/WIL_Automation%20Team%20-%20General/99_Project%20Files/_UpdateTester/00007_Test_TopGun/A01_Data%20Compliance/A01_00_Apps/A0999_VisualMapping_Extension/sample.ipynb#X10sZmlsZQ%3D%3D?line=2'>3</a>\u001b[0m \u001b[39mfrom\u001b[39;00m \u001b[39mPyQt6\u001b[39;00m\u001b[39m.\u001b[39;00m\u001b[39mQtWidgets\u001b[39;00m \u001b[39mimport\u001b[39;00m (\n\u001b[0;32m      <a href='vscode-notebook-cell:/c%3A/Users/MaverickWong/Willow/WIL_Automation%20Team%20-%20General/99_Project%20Files/_UpdateTester/00007_Test_TopGun/A01_Data%20Compliance/A01_00_Apps/A0999_VisualMapping_Extension/sample.ipynb#X10sZmlsZQ%3D%3D?line=3'>4</a>\u001b[0m     QApplication, QMainWindow,\n\u001b[0;32m      <a href='vscode-notebook-cell:/c%3A/Users/MaverickWong/Willow/WIL_Automation%20Team%20-%20General/99_Project%20Files/_UpdateTester/00007_Test_TopGun/A01_Data%20Compliance/A01_00_Apps/A0999_VisualMapping_Extension/sample.ipynb#X10sZmlsZQ%3D%3D?line=4'>5</a>\u001b[0m \n\u001b[0;32m      <a href='vscode-notebook-cell:/c%3A/Users/MaverickWong/Willow/WIL_Automation%20Team%20-%20General/99_Project%20Files/_UpdateTester/00007_Test_TopGun/A01_Data%20Compliance/A01_00_Apps/A0999_VisualMapping_Extension/sample.ipynb#X10sZmlsZQ%3D%3D?line=5'>6</a>\u001b[0m \n\u001b[0;32m      <a href='vscode-notebook-cell:/c%3A/Users/MaverickWong/Willow/WIL_Automation%20Team%20-%20General/99_Project%20Files/_UpdateTester/00007_Test_TopGun/A01_Data%20Compliance/A01_00_Apps/A0999_VisualMapping_Extension/sample.ipynb#X10sZmlsZQ%3D%3D?line=6'>7</a>\u001b[0m     QListWidget,\n\u001b[0;32m      <a href='vscode-notebook-cell:/c%3A/Users/MaverickWong/Willow/WIL_Automation%20Team%20-%20General/99_Project%20Files/_UpdateTester/00007_Test_TopGun/A01_Data%20Compliance/A01_00_Apps/A0999_VisualMapping_Extension/sample.ipynb#X10sZmlsZQ%3D%3D?line=7'>8</a>\u001b[0m )\n\u001b[0;32m     <a href='vscode-notebook-cell:/c%3A/Users/MaverickWong/Willow/WIL_Automation%20Team%20-%20General/99_Project%20Files/_UpdateTester/00007_Test_TopGun/A01_Data%20Compliance/A01_00_Apps/A0999_VisualMapping_Extension/sample.ipynb#X10sZmlsZQ%3D%3D?line=9'>10</a>\u001b[0m \u001b[39mfrom\u001b[39;00m \u001b[39mPyQt6\u001b[39;00m\u001b[39m.\u001b[39;00m\u001b[39mQtCore\u001b[39;00m \u001b[39mimport\u001b[39;00m Qt\n",
      "\u001b[1;31mRuntimeError\u001b[0m: PyQt6.QtWidgets cannot import type '�bd��' from PyQt6.QtCore"
     ]
    }
   ],
   "source": [
    "import sys\n",
    "from PyQt6.QtCore import Qt\n",
    "from PyQt6.QtWidgets import (\n",
    "    QApplication, QMainWindow,\n",
    "\n",
    "\n",
    "    QListWidget,\n",
    ")\n",
    "\n",
    "from PyQt6.QtCore import Qt"
   ]
  },
  {
   "cell_type": "code",
   "execution_count": 2,
   "metadata": {},
   "outputs": [
    {
     "ename": "RuntimeError",
     "evalue": "PyQt6.QtWidgets cannot import type '�bd��' from PyQt6.QtCore",
     "output_type": "error",
     "traceback": [
      "\u001b[1;31m---------------------------------------------------------------------------\u001b[0m",
      "\u001b[1;31mRuntimeError\u001b[0m                              Traceback (most recent call last)",
      "\u001b[1;32mc:\\Users\\MaverickWong\\Willow\\WIL_Automation Team - General\\99_Project Files\\_UpdateTester\\00007_Test_TopGun\\A01_Data Compliance\\A01_00_Apps\\A0999_VisualMapping_Extension\\sample.ipynb Cell 6\u001b[0m in \u001b[0;36m<cell line: 3>\u001b[1;34m()\u001b[0m\n\u001b[0;32m      <a href='vscode-notebook-cell:/c%3A/Users/MaverickWong/Willow/WIL_Automation%20Team%20-%20General/99_Project%20Files/_UpdateTester/00007_Test_TopGun/A01_Data%20Compliance/A01_00_Apps/A0999_VisualMapping_Extension/sample.ipynb#W5sZmlsZQ%3D%3D?line=0'>1</a>\u001b[0m \u001b[39mimport\u001b[39;00m \u001b[39msys\u001b[39;00m\n\u001b[0;32m      <a href='vscode-notebook-cell:/c%3A/Users/MaverickWong/Willow/WIL_Automation%20Team%20-%20General/99_Project%20Files/_UpdateTester/00007_Test_TopGun/A01_Data%20Compliance/A01_00_Apps/A0999_VisualMapping_Extension/sample.ipynb#W5sZmlsZQ%3D%3D?line=1'>2</a>\u001b[0m \u001b[39mfrom\u001b[39;00m \u001b[39mPyQt6\u001b[39;00m\u001b[39m.\u001b[39;00m\u001b[39mQtCore\u001b[39;00m \u001b[39mimport\u001b[39;00m Qt\n\u001b[1;32m----> <a href='vscode-notebook-cell:/c%3A/Users/MaverickWong/Willow/WIL_Automation%20Team%20-%20General/99_Project%20Files/_UpdateTester/00007_Test_TopGun/A01_Data%20Compliance/A01_00_Apps/A0999_VisualMapping_Extension/sample.ipynb#W5sZmlsZQ%3D%3D?line=2'>3</a>\u001b[0m \u001b[39mfrom\u001b[39;00m \u001b[39mPyQt6\u001b[39;00m\u001b[39m.\u001b[39;00m\u001b[39mQtWidgets\u001b[39;00m \u001b[39mimport\u001b[39;00m (\n\u001b[0;32m      <a href='vscode-notebook-cell:/c%3A/Users/MaverickWong/Willow/WIL_Automation%20Team%20-%20General/99_Project%20Files/_UpdateTester/00007_Test_TopGun/A01_Data%20Compliance/A01_00_Apps/A0999_VisualMapping_Extension/sample.ipynb#W5sZmlsZQ%3D%3D?line=3'>4</a>\u001b[0m     QApplication,\n\u001b[0;32m      <a href='vscode-notebook-cell:/c%3A/Users/MaverickWong/Willow/WIL_Automation%20Team%20-%20General/99_Project%20Files/_UpdateTester/00007_Test_TopGun/A01_Data%20Compliance/A01_00_Apps/A0999_VisualMapping_Extension/sample.ipynb#W5sZmlsZQ%3D%3D?line=4'>5</a>\u001b[0m     QCheckBox,\n\u001b[0;32m      <a href='vscode-notebook-cell:/c%3A/Users/MaverickWong/Willow/WIL_Automation%20Team%20-%20General/99_Project%20Files/_UpdateTester/00007_Test_TopGun/A01_Data%20Compliance/A01_00_Apps/A0999_VisualMapping_Extension/sample.ipynb#W5sZmlsZQ%3D%3D?line=5'>6</a>\u001b[0m     QComboBox,\n\u001b[0;32m      <a href='vscode-notebook-cell:/c%3A/Users/MaverickWong/Willow/WIL_Automation%20Team%20-%20General/99_Project%20Files/_UpdateTester/00007_Test_TopGun/A01_Data%20Compliance/A01_00_Apps/A0999_VisualMapping_Extension/sample.ipynb#W5sZmlsZQ%3D%3D?line=6'>7</a>\u001b[0m     QDateEdit,\n\u001b[0;32m      <a href='vscode-notebook-cell:/c%3A/Users/MaverickWong/Willow/WIL_Automation%20Team%20-%20General/99_Project%20Files/_UpdateTester/00007_Test_TopGun/A01_Data%20Compliance/A01_00_Apps/A0999_VisualMapping_Extension/sample.ipynb#W5sZmlsZQ%3D%3D?line=7'>8</a>\u001b[0m     QDateTimeEdit,\n\u001b[0;32m      <a href='vscode-notebook-cell:/c%3A/Users/MaverickWong/Willow/WIL_Automation%20Team%20-%20General/99_Project%20Files/_UpdateTester/00007_Test_TopGun/A01_Data%20Compliance/A01_00_Apps/A0999_VisualMapping_Extension/sample.ipynb#W5sZmlsZQ%3D%3D?line=8'>9</a>\u001b[0m     QDial,\n\u001b[0;32m     <a href='vscode-notebook-cell:/c%3A/Users/MaverickWong/Willow/WIL_Automation%20Team%20-%20General/99_Project%20Files/_UpdateTester/00007_Test_TopGun/A01_Data%20Compliance/A01_00_Apps/A0999_VisualMapping_Extension/sample.ipynb#W5sZmlsZQ%3D%3D?line=9'>10</a>\u001b[0m     QDoubleSpinBox,\n\u001b[0;32m     <a href='vscode-notebook-cell:/c%3A/Users/MaverickWong/Willow/WIL_Automation%20Team%20-%20General/99_Project%20Files/_UpdateTester/00007_Test_TopGun/A01_Data%20Compliance/A01_00_Apps/A0999_VisualMapping_Extension/sample.ipynb#W5sZmlsZQ%3D%3D?line=10'>11</a>\u001b[0m     QFontComboBox,\n\u001b[0;32m     <a href='vscode-notebook-cell:/c%3A/Users/MaverickWong/Willow/WIL_Automation%20Team%20-%20General/99_Project%20Files/_UpdateTester/00007_Test_TopGun/A01_Data%20Compliance/A01_00_Apps/A0999_VisualMapping_Extension/sample.ipynb#W5sZmlsZQ%3D%3D?line=11'>12</a>\u001b[0m     QLabel,\n\u001b[0;32m     <a href='vscode-notebook-cell:/c%3A/Users/MaverickWong/Willow/WIL_Automation%20Team%20-%20General/99_Project%20Files/_UpdateTester/00007_Test_TopGun/A01_Data%20Compliance/A01_00_Apps/A0999_VisualMapping_Extension/sample.ipynb#W5sZmlsZQ%3D%3D?line=12'>13</a>\u001b[0m     QLCDNumber,\n\u001b[0;32m     <a href='vscode-notebook-cell:/c%3A/Users/MaverickWong/Willow/WIL_Automation%20Team%20-%20General/99_Project%20Files/_UpdateTester/00007_Test_TopGun/A01_Data%20Compliance/A01_00_Apps/A0999_VisualMapping_Extension/sample.ipynb#W5sZmlsZQ%3D%3D?line=13'>14</a>\u001b[0m     QLineEdit,\n\u001b[0;32m     <a href='vscode-notebook-cell:/c%3A/Users/MaverickWong/Willow/WIL_Automation%20Team%20-%20General/99_Project%20Files/_UpdateTester/00007_Test_TopGun/A01_Data%20Compliance/A01_00_Apps/A0999_VisualMapping_Extension/sample.ipynb#W5sZmlsZQ%3D%3D?line=14'>15</a>\u001b[0m     QMainWindow,\n\u001b[0;32m     <a href='vscode-notebook-cell:/c%3A/Users/MaverickWong/Willow/WIL_Automation%20Team%20-%20General/99_Project%20Files/_UpdateTester/00007_Test_TopGun/A01_Data%20Compliance/A01_00_Apps/A0999_VisualMapping_Extension/sample.ipynb#W5sZmlsZQ%3D%3D?line=15'>16</a>\u001b[0m     QProgressBar,\n\u001b[0;32m     <a href='vscode-notebook-cell:/c%3A/Users/MaverickWong/Willow/WIL_Automation%20Team%20-%20General/99_Project%20Files/_UpdateTester/00007_Test_TopGun/A01_Data%20Compliance/A01_00_Apps/A0999_VisualMapping_Extension/sample.ipynb#W5sZmlsZQ%3D%3D?line=16'>17</a>\u001b[0m     QPushButton,\n\u001b[0;32m     <a href='vscode-notebook-cell:/c%3A/Users/MaverickWong/Willow/WIL_Automation%20Team%20-%20General/99_Project%20Files/_UpdateTester/00007_Test_TopGun/A01_Data%20Compliance/A01_00_Apps/A0999_VisualMapping_Extension/sample.ipynb#W5sZmlsZQ%3D%3D?line=17'>18</a>\u001b[0m     QRadioButton,\n\u001b[0;32m     <a href='vscode-notebook-cell:/c%3A/Users/MaverickWong/Willow/WIL_Automation%20Team%20-%20General/99_Project%20Files/_UpdateTester/00007_Test_TopGun/A01_Data%20Compliance/A01_00_Apps/A0999_VisualMapping_Extension/sample.ipynb#W5sZmlsZQ%3D%3D?line=18'>19</a>\u001b[0m     QSlider,\n\u001b[0;32m     <a href='vscode-notebook-cell:/c%3A/Users/MaverickWong/Willow/WIL_Automation%20Team%20-%20General/99_Project%20Files/_UpdateTester/00007_Test_TopGun/A01_Data%20Compliance/A01_00_Apps/A0999_VisualMapping_Extension/sample.ipynb#W5sZmlsZQ%3D%3D?line=19'>20</a>\u001b[0m     QSpinBox,\n\u001b[0;32m     <a href='vscode-notebook-cell:/c%3A/Users/MaverickWong/Willow/WIL_Automation%20Team%20-%20General/99_Project%20Files/_UpdateTester/00007_Test_TopGun/A01_Data%20Compliance/A01_00_Apps/A0999_VisualMapping_Extension/sample.ipynb#W5sZmlsZQ%3D%3D?line=20'>21</a>\u001b[0m     QTimeEdit,\n\u001b[0;32m     <a href='vscode-notebook-cell:/c%3A/Users/MaverickWong/Willow/WIL_Automation%20Team%20-%20General/99_Project%20Files/_UpdateTester/00007_Test_TopGun/A01_Data%20Compliance/A01_00_Apps/A0999_VisualMapping_Extension/sample.ipynb#W5sZmlsZQ%3D%3D?line=21'>22</a>\u001b[0m     QVBoxLayout,\n\u001b[0;32m     <a href='vscode-notebook-cell:/c%3A/Users/MaverickWong/Willow/WIL_Automation%20Team%20-%20General/99_Project%20Files/_UpdateTester/00007_Test_TopGun/A01_Data%20Compliance/A01_00_Apps/A0999_VisualMapping_Extension/sample.ipynb#W5sZmlsZQ%3D%3D?line=22'>23</a>\u001b[0m     QWidget,\n\u001b[0;32m     <a href='vscode-notebook-cell:/c%3A/Users/MaverickWong/Willow/WIL_Automation%20Team%20-%20General/99_Project%20Files/_UpdateTester/00007_Test_TopGun/A01_Data%20Compliance/A01_00_Apps/A0999_VisualMapping_Extension/sample.ipynb#W5sZmlsZQ%3D%3D?line=23'>24</a>\u001b[0m     QListWidget,\n\u001b[0;32m     <a href='vscode-notebook-cell:/c%3A/Users/MaverickWong/Willow/WIL_Automation%20Team%20-%20General/99_Project%20Files/_UpdateTester/00007_Test_TopGun/A01_Data%20Compliance/A01_00_Apps/A0999_VisualMapping_Extension/sample.ipynb#W5sZmlsZQ%3D%3D?line=24'>25</a>\u001b[0m )\n\u001b[0;32m     <a href='vscode-notebook-cell:/c%3A/Users/MaverickWong/Willow/WIL_Automation%20Team%20-%20General/99_Project%20Files/_UpdateTester/00007_Test_TopGun/A01_Data%20Compliance/A01_00_Apps/A0999_VisualMapping_Extension/sample.ipynb#W5sZmlsZQ%3D%3D?line=26'>27</a>\u001b[0m \u001b[39mfrom\u001b[39;00m \u001b[39mPyQt6\u001b[39;00m\u001b[39m.\u001b[39;00m\u001b[39mQtCore\u001b[39;00m \u001b[39mimport\u001b[39;00m Qt\n\u001b[0;32m     <a href='vscode-notebook-cell:/c%3A/Users/MaverickWong/Willow/WIL_Automation%20Team%20-%20General/99_Project%20Files/_UpdateTester/00007_Test_TopGun/A01_Data%20Compliance/A01_00_Apps/A0999_VisualMapping_Extension/sample.ipynb#W5sZmlsZQ%3D%3D?line=28'>29</a>\u001b[0m \u001b[39mclass\u001b[39;00m \u001b[39mMainWindow\u001b[39;00m(QMainWindow):\n",
      "\u001b[1;31mRuntimeError\u001b[0m: PyQt6.QtWidgets cannot import type '�bd��' from PyQt6.QtCore"
     ]
    }
   ],
   "source": []
  },
  {
   "cell_type": "code",
   "execution_count": null,
   "metadata": {},
   "outputs": [],
   "source": []
  }
 ],
 "metadata": {
  "kernelspec": {
   "display_name": "Python 3.9.7 64-bit",
   "language": "python",
   "name": "python3"
  },
  "language_info": {
   "codemirror_mode": {
    "name": "ipython",
    "version": 3
   },
   "file_extension": ".py",
   "mimetype": "text/x-python",
   "name": "python",
   "nbconvert_exporter": "python",
   "pygments_lexer": "ipython3",
   "version": "3.9.7"
  },
  "orig_nbformat": 4,
  "vscode": {
   "interpreter": {
    "hash": "9dbeb5ce428497f4d719213df2f5116e0feff6e4e81b16e467766bfc557b8daa"
   }
  }
 },
 "nbformat": 4,
 "nbformat_minor": 2
}
