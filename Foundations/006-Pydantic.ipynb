{
 "cells": [
  {
   "cell_type": "code",
   "execution_count": 4,
   "metadata": {},
   "outputs": [],
   "source": [
    "import string\n",
    "import pydantic\n",
    "from typing import Optional"
   ]
  },
  {
   "cell_type": "code",
   "execution_count": 18,
   "metadata": {},
   "outputs": [],
   "source": [
    "# Example #1\n",
    "class User(pydantic.BaseModel):\n",
    "    username: str\n",
    "    password: str\n",
    "    age: int\n",
    "    score: float\n",
    "    \n",
    "    email: Optional[str]\n",
    "    phone_number: Optional[str]\n",
    "    \n",
    "    @pydantic.validator(\"username\")\n",
    "    @classmethod\n",
    "    def validate_username(cls, value):\n",
    "        if any(p in value for p in string.punctuation):\n",
    "            raise ValueError(\"Username must not include punctuation or special characters.\")\n",
    "        else:\n",
    "            return value\n",
    "        \n",
    "    @pydantic.validator(\"password\")\n",
    "    @classmethod\n",
    "    def validate_password(cls, value):\n",
    "        if len(value) < 8:\n",
    "            raise ValueError(\"Password must be atleast 8 characters long.\")\n",
    "        if any(p in value for p in string.punctuation):\n",
    "            if any(d in value for d in string.digits):\n",
    "                if any(l in value for l in string.ascii_lowercase):\n",
    "                    if any(u in value for u in string.ascii_uppercase):\n",
    "                        return value\n",
    "        raise ValueError(\"Password needs at least one punctuation symbol, digit, upper and lower case string.\")\n",
    "        \n",
    "    # Validate two inputs\n",
    "    @pydantic.validator(\"age\", \"score\")\n",
    "    @classmethod\n",
    "    def validate_number(cls, value):\n",
    "        if value >= 0:\n",
    "            return value\n",
    "        else:\n",
    "            raise ValueError(\"Numbers must be a integer or float\")"
   ]
  },
  {
   "cell_type": "code",
   "execution_count": 20,
   "metadata": {},
   "outputs": [
    {
     "name": "stdout",
     "output_type": "stream",
     "text": [
      "username='mvrckwong' password='!Ms#1231' age=120 score=0.0 email=None phone_number=None\n"
     ]
    }
   ],
   "source": [
    "user_1 = User(username=\"mvrckwong\", \n",
    "              password=\"!Ms#1231\", \n",
    "              age=120, \n",
    "              score=0, \n",
    "              mail=\"something@something.com\")\n",
    "\n",
    "print(user_1)"
   ]
  },
  {
   "cell_type": "markdown",
   "metadata": {},
   "source": [
    "## Reference"
   ]
  },
  {
   "cell_type": "code",
   "execution_count": null,
   "metadata": {},
   "outputs": [],
   "source": [
    "# - https://www.youtube.com/watch?v=Nlhp4EmE55I&t=104s&ab_channel=NeuralNine\n",
    "# - https://www.youtube.com/watch?v=Vj-iU-8_xLs&t=33s&ab_channel=ArjanCodes"
   ]
  }
 ],
 "metadata": {
  "kernelspec": {
   "display_name": "Python 3.9.1 64-bit",
   "language": "python",
   "name": "python3"
  },
  "language_info": {
   "codemirror_mode": {
    "name": "ipython",
    "version": 3
   },
   "file_extension": ".py",
   "mimetype": "text/x-python",
   "name": "python",
   "nbconvert_exporter": "python",
   "pygments_lexer": "ipython3",
   "version": "3.9.1"
  },
  "orig_nbformat": 4,
  "vscode": {
   "interpreter": {
    "hash": "aee8b7b246df8f9039afb4144a1f6fd8d2ca17a180786b69acc140d282b71a49"
   }
  }
 },
 "nbformat": 4,
 "nbformat_minor": 2
}
