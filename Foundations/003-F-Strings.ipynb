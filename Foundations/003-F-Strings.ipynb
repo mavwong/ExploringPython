{
 "cells": [
  {
   "cell_type": "code",
   "execution_count": null,
   "metadata": {},
   "outputs": [],
   "source": []
  },
  {
   "cell_type": "code",
   "execution_count": 6,
   "metadata": {},
   "outputs": [
    {
     "name": "stdout",
     "output_type": "stream",
     "text": [
      "Output: 320\n",
      "Output: 1440\n",
      "Output: 8.000000e+02\n"
     ]
    }
   ],
   "source": [
    "# Formatting Numbers\n",
    "number = 800\n",
    "print(f\"Output: {number:x}\")    # Hexa Representation\n",
    "print(f\"Output: {number:o}\")    # Octo Representation\n",
    "print(f\"Output: {number:e}\")    # Scientific Representation"
   ]
  },
  {
   "cell_type": "code",
   "execution_count": 7,
   "metadata": {},
   "outputs": [
    {
     "name": "stdout",
     "output_type": "stream",
     "text": [
      "Output: 000800\n",
      "Output: 800.00\n"
     ]
    }
   ],
   "source": [
    "print(f\"Output: {number:06}\")\n",
    "print(f\"Output: {number:.2f}\") # Rounding\n"
   ]
  },
  {
   "cell_type": "code",
   "execution_count": 11,
   "metadata": {},
   "outputs": [
    {
     "name": "stdout",
     "output_type": "stream",
     "text": [
      "440,000,000,000.00\n",
      "440_000_000_000.00\n"
     ]
    }
   ],
   "source": [
    "print(f\"{440000000000:,.2f}\")\n",
    "print(f\"{440000000000:_.2f}\")"
   ]
  },
  {
   "cell_type": "code",
   "execution_count": 12,
   "metadata": {},
   "outputs": [
    {
     "name": "stdout",
     "output_type": "stream",
     "text": [
      "10.23%\n"
     ]
    }
   ],
   "source": [
    "print(f\"{0.1023123:.2%}\")"
   ]
  },
  {
   "cell_type": "markdown",
   "metadata": {},
   "source": [
    "### Alignment and Padding"
   ]
  },
  {
   "cell_type": "code",
   "execution_count": 14,
   "metadata": {},
   "outputs": [
    {
     "name": "stdout",
     "output_type": "stream",
     "text": [
      "Index:      0\n",
      "Index:      1\n",
      "Index:      2\n",
      "Index:      3\n",
      "Index:      4\n",
      "Index:      5\n",
      "Index:      6\n",
      "Index:      7\n",
      "Index:      8\n",
      "Index:      9\n"
     ]
    }
   ],
   "source": [
    "for number in range(0, 10):\n",
    "    print(f\"Index: {number:6}\")"
   ]
  },
  {
   "cell_type": "code",
   "execution_count": 15,
   "metadata": {},
   "outputs": [
    {
     "name": "stdout",
     "output_type": "stream",
     "text": [
      "Index: 000000\n",
      "Index: 000001\n",
      "Index: 000002\n",
      "Index: 000003\n",
      "Index: 000004\n",
      "Index: 000005\n",
      "Index: 000006\n",
      "Index: 000007\n",
      "Index: 000008\n",
      "Index: 000009\n"
     ]
    }
   ],
   "source": [
    "for number in range(0, 10):\n",
    "    print(f\"Index: {number:06}\")"
   ]
  },
  {
   "cell_type": "code",
   "execution_count": 20,
   "metadata": {},
   "outputs": [
    {
     "name": "stdout",
     "output_type": "stream",
     "text": [
      "     Hello\n",
      "  Hello   \n",
      "Hello     \n",
      "_____Hello\n",
      "__Hello___\n",
      "Hello_____\n"
     ]
    }
   ],
   "source": [
    "sample = \"Hello\"\n",
    "print(f\"{sample:>10}\")\n",
    "print(f\"{sample:^10}\")\n",
    "print(f\"{sample:<10}\")\n",
    "\n",
    "print(f\"{sample:_>10}\")\n",
    "print(f\"{sample:_^10}\")\n",
    "print(f\"{sample:_<10}\")"
   ]
  },
  {
   "cell_type": "markdown",
   "metadata": {},
   "source": [
    "## Str and Repr"
   ]
  },
  {
   "cell_type": "code",
   "execution_count": 25,
   "metadata": {},
   "outputs": [],
   "source": [
    "from dataclasses import dataclass\n",
    "\n",
    "@dataclass\n",
    "class User:\n",
    "    first_name:str\n",
    "    last_name:str\n",
    "    \n",
    "    def __str__(self):\n",
    "        return f\"{self.first_name} {self.last_name}\"\n",
    "    "
   ]
  },
  {
   "cell_type": "code",
   "execution_count": 34,
   "metadata": {},
   "outputs": [
    {
     "name": "stdout",
     "output_type": "stream",
     "text": [
      "User: Maverick Wong\n",
      "User: Maverick Wong\n",
      "User: User(first_name='Maverick', last_name='Wong')\n",
      "User: User(first_name='Maverick', last_name='Wong')\n"
     ]
    }
   ],
   "source": [
    "user = User(\"Maverick\", \"Wong\")\n",
    "print(f\"User: {user}\")\n",
    "print(f\"User: {user!s}\")\n",
    "print(f\"User: {user!a}\")\n",
    "print(f\"User: {user!r}\")"
   ]
  },
  {
   "cell_type": "code",
   "execution_count": 35,
   "metadata": {},
   "outputs": [
    {
     "name": "stdout",
     "output_type": "stream",
     "text": [
      "User: User(first_name='Maverick', last_name='Wong')\n"
     ]
    }
   ],
   "source": [
    "print(f\"User: {repr(user)}\")"
   ]
  },
  {
   "cell_type": "code",
   "execution_count": null,
   "metadata": {},
   "outputs": [],
   "source": [
    "# str - returns the user representation of the argument\n",
    "# repr - returns the developer representation of the argument"
   ]
  },
  {
   "cell_type": "markdown",
   "metadata": {},
   "source": [
    "## Dates and Times"
   ]
  },
  {
   "cell_type": "code",
   "execution_count": 36,
   "metadata": {},
   "outputs": [],
   "source": [
    "import datetime"
   ]
  },
  {
   "cell_type": "code",
   "execution_count": 37,
   "metadata": {},
   "outputs": [],
   "source": [
    "today = datetime.datetime.now()"
   ]
  },
  {
   "cell_type": "code",
   "execution_count": 44,
   "metadata": {},
   "outputs": [
    {
     "name": "stdout",
     "output_type": "stream",
     "text": [
      "Date Sample: 2022-11-22 09:43:15.483017\n",
      "Date Sample: 09:43\n",
      "Date Sample: 09:43:15\n",
      "Date Sample: 09:43:15.483017\n",
      "Date Sample: 09-43-15.483017\n"
     ]
    }
   ],
   "source": [
    "print(f\"Date Sample: {today}\")\n",
    "print(f\"Date Sample: {today:%H:%M}\")\n",
    "print(f\"Date Sample: {today:%H:%M:%S}\")\n",
    "print(f\"Date Sample: {today:%H:%M:%S.%f}\")\n",
    "print(f\"Date Sample: {today:%H-%M-%S.%f}\")"
   ]
  },
  {
   "cell_type": "code",
   "execution_count": 47,
   "metadata": {},
   "outputs": [
    {
     "name": "stdout",
     "output_type": "stream",
     "text": [
      "Date Sample: 2022-11-22\n",
      "Date Sample: 22-11-22\n"
     ]
    }
   ],
   "source": [
    "print(f\"Date Sample: {today:%Y-%m-%d}\")\n",
    "print(f\"Date Sample: {today:%y-%m-%d}\")"
   ]
  },
  {
   "cell_type": "code",
   "execution_count": 51,
   "metadata": {},
   "outputs": [
    {
     "name": "stdout",
     "output_type": "stream",
     "text": [
      "Date Sample: 09:43:15\n",
      "Date Sample: Tuesday\n",
      "Date Sample: 11/22/22\n",
      "Date Sample: Tuesday, November 22, 2022\n"
     ]
    }
   ],
   "source": [
    "print(f\"Date Sample: {today:%T}\")\n",
    "print(f\"Date Sample: {today:%A}\")\n",
    "print(f\"Date Sample: {today:%D}\")\n",
    "print(f\"Date Sample: {today:%A, %B %d, %Y}\")"
   ]
  },
  {
   "cell_type": "markdown",
   "metadata": {},
   "source": [
    "### Multiline Strings"
   ]
  },
  {
   "cell_type": "markdown",
   "metadata": {},
   "source": [
    "## Reference\n",
    "- https://www.youtube.com/watch?v=Mfmr_Puhtew&t=918s&ab_channel=ArjanCodes"
   ]
  }
 ],
 "metadata": {
  "kernelspec": {
   "display_name": "Python 3.9.7 64-bit",
   "language": "python",
   "name": "python3"
  },
  "language_info": {
   "codemirror_mode": {
    "name": "ipython",
    "version": 3
   },
   "file_extension": ".py",
   "mimetype": "text/x-python",
   "name": "python",
   "nbconvert_exporter": "python",
   "pygments_lexer": "ipython3",
   "version": "3.9.7"
  },
  "orig_nbformat": 4,
  "vscode": {
   "interpreter": {
    "hash": "9dbeb5ce428497f4d719213df2f5116e0feff6e4e81b16e467766bfc557b8daa"
   }
  }
 },
 "nbformat": 4,
 "nbformat_minor": 2
}
